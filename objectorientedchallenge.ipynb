{
  "nbformat": 4,
  "nbformat_minor": 0,
  "metadata": {
    "colab": {
      "name": "objectorientedchallenge.ipynb",
      "version": "0.3.2",
      "provenance": [],
      "include_colab_link": true
    },
    "kernelspec": {
      "name": "python3",
      "display_name": "Python 3"
    }
  },
  "cells": [
    {
      "cell_type": "markdown",
      "metadata": {
        "id": "view-in-github",
        "colab_type": "text"
      },
      "source": [
        "<a href=\"https://colab.research.google.com/github/maddyscreen/maddysrepo/blob/master/objectorientedchallenge.ipynb\" target=\"_parent\"><img src=\"https://colab.research.google.com/assets/colab-badge.svg\" alt=\"Open In Colab\"/></a>"
      ]
    },
    {
      "cell_type": "code",
      "metadata": {
        "id": "hYrev8lNayuh",
        "colab_type": "code",
        "colab": {}
      },
      "source": [
        "class Account():\n",
        "  def __init__(self, owner, balance):\n",
        "    self.owner = owner\n",
        "    self.balance = balance\n",
        "    \n",
        "  def dep(self,dpst):\n",
        "    self.balance = self.balance + dpst\n",
        "    return f\"Your new balance is {self.balance}\"\n",
        "  def wit(self,wthdrwl):\n",
        "    if wthdrwl>self.balance:\n",
        "      return('Sorry funds are not available!')\n",
        "    else:\n",
        "      self.balance = self.balance - wthdrwl\n",
        "      return f\"Your new balance is {self.balance}\"\n",
        "  def __str__(self):\n",
        "    return ('Owner: {self.owner} \\nBalance: {self.balance}'.format)"
      ],
      "execution_count": 0,
      "outputs": []
    },
    {
      "cell_type": "code",
      "metadata": {
        "id": "nX_bUD8icoMF",
        "colab_type": "code",
        "colab": {
          "base_uri": "https://localhost:8080/",
          "height": 35
        },
        "outputId": "33c361bb-a3d3-4ec3-8f33-aeadbea1359c"
      },
      "source": [
        "a = Account('Jose',100)\n",
        "a.balance\n"
      ],
      "execution_count": 54,
      "outputs": [
        {
          "output_type": "execute_result",
          "data": {
            "text/plain": [
              "100"
            ]
          },
          "metadata": {
            "tags": []
          },
          "execution_count": 54
        }
      ]
    },
    {
      "cell_type": "code",
      "metadata": {
        "id": "7yG2SLHJiqlb",
        "colab_type": "code",
        "colab": {
          "base_uri": "https://localhost:8080/",
          "height": 35
        },
        "outputId": "7d00a36f-bda9-4c15-9244-7444edce2297"
      },
      "source": [
        "a.wit(800)"
      ],
      "execution_count": 59,
      "outputs": [
        {
          "output_type": "execute_result",
          "data": {
            "text/plain": [
              "'Your new balance is 300'"
            ]
          },
          "metadata": {
            "tags": []
          },
          "execution_count": 59
        }
      ]
    }
  ]
}