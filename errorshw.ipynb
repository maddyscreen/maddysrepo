{
  "nbformat": 4,
  "nbformat_minor": 0,
  "metadata": {
    "colab": {
      "name": "errorshw.ipynb",
      "version": "0.3.2",
      "provenance": [],
      "include_colab_link": true
    },
    "kernelspec": {
      "name": "python3",
      "display_name": "Python 3"
    }
  },
  "cells": [
    {
      "cell_type": "markdown",
      "metadata": {
        "id": "view-in-github",
        "colab_type": "text"
      },
      "source": [
        "<a href=\"https://colab.research.google.com/github/maddyscreen/maddysrepo/blob/master/errorshw.ipynb\" target=\"_parent\"><img src=\"https://colab.research.google.com/assets/colab-badge.svg\" alt=\"Open In Colab\"/></a>"
      ]
    },
    {
      "cell_type": "code",
      "metadata": {
        "id": "-Pb_7XRhozHo",
        "colab_type": "code",
        "colab": {
          "base_uri": "https://localhost:8080/",
          "height": 35
        },
        "outputId": "f4e54dd6-4d80-4951-a41e-453983303b2e"
      },
      "source": [
        "try:\n",
        "  for i in ['a','b','c']:\n",
        "      print(i**2)\n",
        "except:\n",
        "  print(\"Sorry you cannot square a string!\")"
      ],
      "execution_count": 1,
      "outputs": [
        {
          "output_type": "stream",
          "text": [
            "Sorry you cannot square a string!\n"
          ],
          "name": "stdout"
        }
      ]
    },
    {
      "cell_type": "code",
      "metadata": {
        "id": "xUZGHNC3pLqJ",
        "colab_type": "code",
        "colab": {
          "base_uri": "https://localhost:8080/",
          "height": 52
        },
        "outputId": "65cd29b0-96d5-4e1e-8c70-db7148e95565"
      },
      "source": [
        "try:\n",
        "  x = 5\n",
        "  y = 0\n",
        "\n",
        "  z = x/y\n",
        "except:\n",
        "  print(\"Error! You cannot divide by zero!\")\n",
        "finally:\n",
        "  print(\"Math is fun!\")"
      ],
      "execution_count": 9,
      "outputs": [
        {
          "output_type": "stream",
          "text": [
            "Error! You cannot divide by zero!\n",
            "Math is fun!\n"
          ],
          "name": "stdout"
        }
      ]
    },
    {
      "cell_type": "code",
      "metadata": {
        "id": "SHLSeatSqOaV",
        "colab_type": "code",
        "colab": {}
      },
      "source": [
        "def ask():\n",
        "    while True:\n",
        "      try: \n",
        "        num = int(input(\"Enter and integer! \"))\n",
        "        result = num**2\n",
        "      except:\n",
        "        print(\"Error, enter an integer: \")\n",
        "        continue\n",
        "      else:\n",
        "        print (f\"Your number squared is: {result}\")\n",
        "        break\n",
        "        "
      ],
      "execution_count": 0,
      "outputs": []
    },
    {
      "cell_type": "code",
      "metadata": {
        "id": "V_eVC94XsDJO",
        "colab_type": "code",
        "colab": {
          "base_uri": "https://localhost:8080/",
          "height": 87
        },
        "outputId": "27b6f9df-c97c-4e58-8a60-4329bc58abd5"
      },
      "source": [
        "ask()"
      ],
      "execution_count": 24,
      "outputs": [
        {
          "output_type": "stream",
          "text": [
            "Enter and integer! null\n",
            "Error, enter an integer: \n",
            "Enter and integer! 8\n",
            "Your number squared is: 64\n"
          ],
          "name": "stdout"
        }
      ]
    }
  ]
}