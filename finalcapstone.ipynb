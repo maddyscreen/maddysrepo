{
  "nbformat": 4,
  "nbformat_minor": 0,
  "metadata": {
    "colab": {
      "name": "finalcapstone",
      "version": "0.3.2",
      "provenance": [],
      "include_colab_link": true
    },
    "kernelspec": {
      "name": "python3",
      "display_name": "Python 3"
    }
  },
  "cells": [
    {
      "cell_type": "markdown",
      "metadata": {
        "id": "view-in-github",
        "colab_type": "text"
      },
      "source": [
        "<a href=\"https://colab.research.google.com/github/maddyscreen/maddysrepo/blob/master/finalcapstone.ipynb\" target=\"_parent\"><img src=\"https://colab.research.google.com/assets/colab-badge.svg\" alt=\"Open In Colab\"/></a>"
      ]
    },
    {
      "cell_type": "code",
      "metadata": {
        "id": "ujyq7LSCT4CB",
        "colab_type": "code",
        "colab": {}
      },
      "source": [
        "#Maddys Calculator!\n",
        "def operation():\n",
        "      a=0\n",
        "      while a==0:\n",
        "        x = int(input(\"Enter x value: \"))\n",
        "        y = int(input(\"Enter y value: \"))\n",
        "        while True:\n",
        "          c = int(input(\"\"\"Enter a number to choose an operation:\n",
        "          1. Add\n",
        "          2. Subtract\n",
        "          3. Multiply\n",
        "          4. Divide\n",
        "          5. Exponation\n",
        "          6. Root\n",
        "          Enter: \"\"\"))\n",
        "\n",
        "          if c == 1:\n",
        "            print(x+y)\n",
        "            break\n",
        "          elif c == 2:\n",
        "            print(x-y)\n",
        "            break\n",
        "          elif c == 3:\n",
        "            print(x*y)\n",
        "            break\n",
        "          elif c == 4:\n",
        "            print(x/y)\n",
        "            break\n",
        "          elif c == 5:\n",
        "            print(x**y)\n",
        "            break\n",
        "          elif c == 6:\n",
        "            print(x**(1/y))\n",
        "            break\n",
        "          else:\n",
        "            print(\"Please enter a valid selection\")\n",
        "          \n",
        "        q = input(\"Would you like to do another operation (y/n): \")\n",
        "        if q.lower()=='y':\n",
        "          a==0\n",
        "        else:\n",
        "          break\n",
        "\n"
      ],
      "execution_count": 0,
      "outputs": []
    },
    {
      "cell_type": "code",
      "metadata": {
        "id": "oNGMU9nwWszJ",
        "colab_type": "code",
        "colab": {}
      },
      "source": [
        "t = operation"
      ],
      "execution_count": 0,
      "outputs": []
    },
    {
      "cell_type": "code",
      "metadata": {
        "id": "kV7YMFCSWxqp",
        "colab_type": "code",
        "colab": {
          "base_uri": "https://localhost:8080/",
          "height": 381
        },
        "outputId": "11ffc7a9-9ca1-4a91-f2b2-d2257f16893c"
      },
      "source": [
        "t()"
      ],
      "execution_count": 139,
      "outputs": [
        {
          "output_type": "stream",
          "text": [
            "Enter x value: 4\n",
            "Enter y value: 5\n",
            "Enter a number to choose an operation:\n",
            "          1. Add\n",
            "          2. Subtract\n",
            "          3. Multiply\n",
            "          4. Divide\n",
            "          5. Exponation\n",
            "          6. Root\n",
            "          Enter: 8\n",
            "Please enter a valid selection\n",
            "Enter a number to choose an operation:\n",
            "          1. Add\n",
            "          2. Subtract\n",
            "          3. Multiply\n",
            "          4. Divide\n",
            "          5. Exponation\n",
            "          6. Root\n",
            "          Enter: 3\n",
            "20\n",
            "Would you like to do another operation (y/n): n\n"
          ],
          "name": "stdout"
        }
      ]
    }
  ]
}