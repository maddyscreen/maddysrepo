{
  "nbformat": 4,
  "nbformat_minor": 0,
  "metadata": {
    "colab": {
      "name": "objectorientedhw.ipynb",
      "version": "0.3.2",
      "provenance": [],
      "include_colab_link": true
    },
    "kernelspec": {
      "name": "python3",
      "display_name": "Python 3"
    }
  },
  "cells": [
    {
      "cell_type": "markdown",
      "metadata": {
        "id": "view-in-github",
        "colab_type": "text"
      },
      "source": [
        "<a href=\"https://colab.research.google.com/github/maddyscreen/maddysrepo/blob/master/objectorientedhw.ipynb\" target=\"_parent\"><img src=\"https://colab.research.google.com/assets/colab-badge.svg\" alt=\"Open In Colab\"/></a>"
      ]
    },
    {
      "cell_type": "code",
      "metadata": {
        "id": "ob1GPXQpRFp5",
        "colab_type": "code",
        "colab": {}
      },
      "source": [
        "class Line():\n",
        "  def __init__(self,c1,c2):\n",
        "    self.c1=c1\n",
        "    self.c2=c2\n",
        "  def distance(self):\n",
        "    (x1,x2)=self.c1\n",
        "    (y1,y2)=self.c2\n",
        "    return (((x2-x1)**2 + (y2-y1)**2)**.5)\n",
        "  def slope(self):\n",
        "    (x1,x2)=self.c1\n",
        "    (y1,y2)=self.c2\n",
        "    return (y2-y1)/(x2-x1)"
      ],
      "execution_count": 0,
      "outputs": []
    },
    {
      "cell_type": "code",
      "metadata": {
        "id": "AOMkXmseSD6F",
        "colab_type": "code",
        "colab": {}
      },
      "source": [
        "coor1 = (3,2)\n",
        "coor2 = (8,10)\n"
      ],
      "execution_count": 0,
      "outputs": []
    },
    {
      "cell_type": "code",
      "metadata": {
        "id": "KLKVajmOS8in",
        "colab_type": "code",
        "colab": {}
      },
      "source": [
        "myline = Line(coor1,coor2)"
      ],
      "execution_count": 0,
      "outputs": []
    },
    {
      "cell_type": "code",
      "metadata": {
        "id": "dvmAhwjsSQsI",
        "colab_type": "code",
        "colab": {
          "base_uri": "https://localhost:8080/",
          "height": 35
        },
        "outputId": "9b2059d3-0994-444a-fd66-874d6460d107"
      },
      "source": [
        "myline.distance()"
      ],
      "execution_count": 92,
      "outputs": [
        {
          "output_type": "execute_result",
          "data": {
            "text/plain": [
              "2.23606797749979"
            ]
          },
          "metadata": {
            "tags": []
          },
          "execution_count": 92
        }
      ]
    },
    {
      "cell_type": "code",
      "metadata": {
        "id": "GxIfekX9STaA",
        "colab_type": "code",
        "colab": {
          "base_uri": "https://localhost:8080/",
          "height": 35
        },
        "outputId": "dfa0ed50-070d-4827-a8ca-b37fbb948bb9"
      },
      "source": [
        "myline.slope()"
      ],
      "execution_count": 93,
      "outputs": [
        {
          "output_type": "execute_result",
          "data": {
            "text/plain": [
              "-2.0"
            ]
          },
          "metadata": {
            "tags": []
          },
          "execution_count": 93
        }
      ]
    }
  ]
}