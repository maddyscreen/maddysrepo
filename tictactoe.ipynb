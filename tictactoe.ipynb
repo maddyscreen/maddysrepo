{
  "nbformat": 4,
  "nbformat_minor": 0,
  "metadata": {
    "colab": {
      "name": "Untitled0.ipynb",
      "version": "0.3.2",
      "provenance": [],
      "collapsed_sections": [],
      "include_colab_link": true
    },
    "kernelspec": {
      "name": "python3",
      "display_name": "Python 3"
    }
  },
  "cells": [
    {
      "cell_type": "markdown",
      "metadata": {
        "id": "view-in-github",
        "colab_type": "text"
      },
      "source": [
        "<a href=\"https://colab.research.google.com/github/maddyscreen/maddysrepo/blob/master/tictactoe.ipynb\" target=\"_parent\"><img src=\"https://colab.research.google.com/assets/colab-badge.svg\" alt=\"Open In Colab\"/></a>"
      ]
    },
    {
      "cell_type": "code",
      "metadata": {
        "id": "mI13E0UATHYg",
        "colab_type": "code",
        "colab": {}
      },
      "source": [
        "from IPython.display import clear_output\n",
        "\n",
        "def display_board(board):\n",
        "  print(board[1]+'|'+board[2]+'|'+board[3])\n",
        "  print(board[4]+'|'+board[5]+'|'+board[6])\n",
        "  print(board[7]+'|'+board[8]+'|'+board[9])"
      ],
      "execution_count": 0,
      "outputs": []
    },
    {
      "cell_type": "code",
      "metadata": {
        "id": "qy2QI6LUUUEv",
        "colab_type": "code",
        "colab": {}
      },
      "source": [
        "test_board = ['']*10\n",
        "display_board(test_board)"
      ],
      "execution_count": 0,
      "outputs": []
    },
    {
      "cell_type": "code",
      "metadata": {
        "colab_type": "code",
        "id": "icRogUg_zO_f",
        "colab": {}
      },
      "source": [
        "def place_marker(board, marker, position):\n",
        "  board[position]=marker"
      ],
      "execution_count": 0,
      "outputs": []
    },
    {
      "cell_type": "code",
      "metadata": {
        "id": "1q8NI-d0XeE6",
        "colab_type": "code",
        "colab": {}
      },
      "source": [
        "def player_input():\n",
        "  marker=''\n",
        "  while marker != 'x' and marker != 'o':\n",
        "    marker=input('P1, choose x or o!: ')\n",
        "    p1=marker\n",
        "    if p1=='x':\n",
        "      p2='o'\n",
        "    else:\n",
        "      p2='x'\n",
        "  return(p1,p2)"
      ],
      "execution_count": 0,
      "outputs": []
    },
    {
      "cell_type": "code",
      "metadata": {
        "colab_type": "code",
        "id": "lIeL1iDQzOzM",
        "colab": {}
      },
      "source": [
        "player_input()"
      ],
      "execution_count": 0,
      "outputs": []
    },
    {
      "cell_type": "code",
      "metadata": {
        "id": "9kyWDaxPzbu2",
        "colab_type": "code",
        "colab": {}
      },
      "source": [
        "def place_marker(board, marker, position):\n",
        "  board[position]=marker"
      ],
      "execution_count": 0,
      "outputs": []
    },
    {
      "cell_type": "code",
      "metadata": {
        "id": "wOw6Klm8zScH",
        "colab_type": "code",
        "colab": {}
      },
      "source": [
        "def wincheck(board,mark):\n",
        "  return ((board[1]==mark and board[2]==mark and board[3]==mark)or\n",
        "  (board[4]==mark and board[5]==mark and board[6]==mark)or \n",
        "  (board[7]==mark and board[8]==mark and board[9]==mark)or \n",
        "  (board[1]==mark and board[4]==mark and board[7]==mark)or\n",
        "  (board[2]==mark and board[5]==mark and board[8]==mark)or\n",
        "  (board[3]==mark and board[6]==mark and board[9]==mark)or\n",
        "  (board[1]==mark and board[5]==mark and board[9]==mark)or\n",
        "  (board[3]==mark and board[5]==mark and board[7]==mark))\n"
      ],
      "execution_count": 0,
      "outputs": []
    },
    {
      "cell_type": "code",
      "metadata": {
        "id": "jmjGkTyG0Il6",
        "colab_type": "code",
        "colab": {}
      },
      "source": [
        "import random\n",
        "\n",
        "def choose_first():\n",
        "  flip=random.randit(0,1)\n",
        "  if flip==0:\n",
        "    return 'p1'\n",
        "  else:\n",
        "    return 'p2'"
      ],
      "execution_count": 0,
      "outputs": []
    },
    {
      "cell_type": "code",
      "metadata": {
        "id": "pCv6jg9P0zKl",
        "colab_type": "code",
        "colab": {}
      },
      "source": [
        "def space_check(board, position):\n",
        "  return board[position] == ''"
      ],
      "execution_count": 0,
      "outputs": []
    },
    {
      "cell_type": "code",
      "metadata": {
        "id": "iS43-RQP1XZo",
        "colab_type": "code",
        "colab": {}
      },
      "source": [
        "def full_board_check(board):\n",
        "  for i in range(1,10):\n",
        "    if space_check(board,i): #if space check is true, meaning theres empty space\n",
        "      return False\n",
        "  return True"
      ],
      "execution_count": 0,
      "outputs": []
    },
    {
      "cell_type": "code",
      "metadata": {
        "id": "beMtx0Hi2Ako",
        "colab_type": "code",
        "colab": {}
      },
      "source": [
        "\n",
        "def player_choice(board):\n",
        "  position=0\n",
        "  while position not in range (1,10) or not space_check(board,position):\n",
        "    position=int(input('Choose a position 1-9: '))\n",
        "  return position"
      ],
      "execution_count": 0,
      "outputs": []
    },
    {
      "cell_type": "code",
      "metadata": {
        "id": "eIBDFiKO3WgC",
        "colab_type": "code",
        "colab": {}
      },
      "source": [
        "def replay():\n",
        "  choice=input('Do you want to play again? Enter yes or no: ')\n",
        "  return choice.lower()=='yes'\n",
        "    "
      ],
      "execution_count": 0,
      "outputs": []
    },
    {
      "cell_type": "code",
      "metadata": {
        "id": "B8v9owSe39wQ",
        "colab_type": "code",
        "colab": {}
      },
      "source": [
        "replay()"
      ],
      "execution_count": 0,
      "outputs": []
    },
    {
      "cell_type": "code",
      "metadata": {
        "id": "opqH2hsU-duA",
        "colab_type": "code",
        "colab": {}
      },
      "source": [
        "print('Welcome to TIC TAC TOE')\n",
        "while True:\n",
        "  the_board=['']*10\n",
        "  p1_marker,p2_marker= player_input()\n",
        "  \n",
        "  turn=choose_first()\n",
        "  print(turn + 'will go first!')\n",
        "  \n",
        "  play_game= input('Ready to play? yes or no?')\n",
        "  if play_game == 'yes':\n",
        "    game_on == True\n",
        "  else:\n",
        "    game_on == False\n",
        "    \n",
        "  while game_on:\n",
        "    if turn== 'p1':\n",
        "    #show board\n",
        "      display_board(board)\n",
        "    #choose position\n",
        "      position==player_choice(board)\n",
        "    #put symbol on position\n",
        "      place_marker(board, p1_marker, position)\n",
        "    #check for win\n",
        "      if win_check(board,p1_marker):\n",
        "        display_board(board)\n",
        "        print('Player 1 Has Won!')\n",
        "        game_on ==False \n",
        "        replay()\n",
        "      else:\n",
        "        if full_board_check(board):\n",
        "          display_board(board)\n",
        "          print('DRAW!')\n",
        "          game_on ==False \n",
        "        else:\n",
        "          turn== 'p2'\n",
        "        \n",
        "    #alternate turn\n",
        "    #p1 goes first\n",
        "    else:\n",
        "      #show board\n",
        "      display_board(board)\n",
        "    #choose position\n",
        "      position==player_choice(board)\n",
        "    #put symbol on position\n",
        "      place_marker(board, p2_marker, position)\n",
        "    #check for win\n",
        "      if win_check(board,p2_marker):\n",
        "        display_board(board)\n",
        "        print('Player 2 Has Won!')\n",
        "        game_on ==False \n",
        "        replay()\n",
        "      else:\n",
        "        if full_board_check(board):\n",
        "          display_board(board)\n",
        "          print('DRAW!')\n",
        "          game_on ==False \n",
        "        else:\n",
        "          turn== 'p1'\n",
        "if not replay():\n",
        "  break\n",
        "  \n",
        "   "
      ],
      "execution_count": 0,
      "outputs": []
    },
    {
      "cell_type": "code",
      "metadata": {
        "id": "JA6Oq5CuoNz1",
        "colab_type": "code",
        "colab": {}
      },
      "source": [
        ""
      ],
      "execution_count": 0,
      "outputs": []
    }
  ]
}