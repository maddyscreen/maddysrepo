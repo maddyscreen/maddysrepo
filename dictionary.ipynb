{
  "nbformat": 4,
  "nbformat_minor": 0,
  "metadata": {
    "colab": {
      "name": "dictionary.ipynb",
      "version": "0.3.2",
      "provenance": [],
      "include_colab_link": true
    },
    "kernelspec": {
      "name": "python3",
      "display_name": "Python 3"
    }
  },
  "cells": [
    {
      "cell_type": "markdown",
      "metadata": {
        "id": "view-in-github",
        "colab_type": "text"
      },
      "source": [
        "<a href=\"https://colab.research.google.com/github/maddyscreen/maddysrepo/blob/master/dictionary.ipynb\" target=\"_parent\"><img src=\"https://colab.research.google.com/assets/colab-badge.svg\" alt=\"Open In Colab\"/></a>"
      ]
    },
    {
      "cell_type": "code",
      "metadata": {
        "id": "jvNkAmuxxb6d",
        "colab_type": "code",
        "colab": {}
      },
      "source": [
        "dictionaries\n",
        "#can hold lists, strings, floats, ints, other dicitionaries\n",
        "#unordered and cant be stored // cant call certain values\n"
      ],
      "execution_count": 0,
      "outputs": []
    },
    {
      "cell_type": "code",
      "metadata": {
        "id": "D0cjHzeDyN_q",
        "colab_type": "code",
        "colab": {}
      },
      "source": [
        "diction={'maddy':'4.22.97','maya':'2.19.01'}"
      ],
      "execution_count": 0,
      "outputs": []
    },
    {
      "cell_type": "code",
      "metadata": {
        "id": "y6PhnCSeyQ0A",
        "colab_type": "code",
        "colab": {
          "base_uri": "https://localhost:8080/",
          "height": 35
        },
        "outputId": "b49be3fe-0841-4ed4-8b59-59dc76c11b2e"
      },
      "source": [
        "diction['maddy']"
      ],
      "execution_count": 4,
      "outputs": [
        {
          "output_type": "execute_result",
          "data": {
            "text/plain": [
              "'4.22.97'"
            ]
          },
          "metadata": {
            "tags": []
          },
          "execution_count": 4
        }
      ]
    },
    {
      "cell_type": "code",
      "metadata": {
        "id": "rVF0-2VzyeBD",
        "colab_type": "code",
        "colab": {}
      },
      "source": [
        "winter=('dec','jan','feb')\n",
        "spring = ('mar','apr','may')\n",
        "summer = ('jun','jul','aug')\n",
        "fall = ('sep','oct','nov')"
      ],
      "execution_count": 0,
      "outputs": []
    },
    {
      "cell_type": "code",
      "metadata": {
        "id": "F6qSBd4YzNnF",
        "colab_type": "code",
        "colab": {
          "base_uri": "https://localhost:8080/",
          "height": 35
        },
        "outputId": "7a8bed45-4835-4235-fd57-aea4a5c76abb"
      },
      "source": [
        "winter"
      ],
      "execution_count": 21,
      "outputs": [
        {
          "output_type": "execute_result",
          "data": {
            "text/plain": [
              "('dec', 'jan', 'feb')"
            ]
          },
          "metadata": {
            "tags": []
          },
          "execution_count": 21
        }
      ]
    },
    {
      "cell_type": "code",
      "metadata": {
        "id": "VGWxBszG10Ez",
        "colab_type": "code",
        "colab": {}
      },
      "source": [
        "seasons={'cold':'winter','warm':'spring'}"
      ],
      "execution_count": 0,
      "outputs": []
    },
    {
      "cell_type": "code",
      "metadata": {
        "id": "01WPRckM2Ac1",
        "colab_type": "code",
        "colab": {
          "base_uri": "https://localhost:8080/",
          "height": 35
        },
        "outputId": "ff77ea48-c7b3-4401-f885-6db10459d60e"
      },
      "source": [
        "seasons['cold']"
      ],
      "execution_count": 17,
      "outputs": [
        {
          "output_type": "execute_result",
          "data": {
            "text/plain": [
              "('dec', 'jan', 'feb')"
            ]
          },
          "metadata": {
            "tags": []
          },
          "execution_count": 17
        }
      ]
    }
  ]
}