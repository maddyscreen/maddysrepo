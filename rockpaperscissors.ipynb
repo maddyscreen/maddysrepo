{
  "nbformat": 4,
  "nbformat_minor": 0,
  "metadata": {
    "colab": {
      "name": "rockpaperscissors.ipynb",
      "version": "0.3.2",
      "provenance": [],
      "collapsed_sections": [],
      "include_colab_link": true
    },
    "kernelspec": {
      "name": "python3",
      "display_name": "Python 3"
    }
  },
  "cells": [
    {
      "cell_type": "markdown",
      "metadata": {
        "id": "view-in-github",
        "colab_type": "text"
      },
      "source": [
        "<a href=\"https://colab.research.google.com/github/maddyscreen/maddysrepo/blob/master/rockpaperscissors.ipynb\" target=\"_parent\"><img src=\"https://colab.research.google.com/assets/colab-badge.svg\" alt=\"Open In Colab\"/></a>"
      ]
    },
    {
      "cell_type": "code",
      "metadata": {
        "id": "pCG8ry00kHWB",
        "colab_type": "code",
        "colab": {}
      },
      "source": [
        "from random import randint\n",
        "\n",
        "def game():\n",
        "  print('Welcome to ROCK PAPER SCISSORS')\n",
        "  while True:    \n",
        "        a = randint(1,3)\n",
        "        if a == 1:\n",
        "          x = 'ROCK'\n",
        "\n",
        "        elif a == 2:\n",
        "          x = 'PAPER'\n",
        "\n",
        "        elif a ==3:\n",
        "          x = 'SCISSORS'\n",
        "      \n",
        "        y = (str(input(\"Enter 'ROCK', 'PAPER', or 'SCISSORS': \")))\n",
        "\n",
        "\n",
        "        if x.lower() == 'rock' and y.lower() == 'scissors':\n",
        "          print('\\nCOMPUTER CHOSE: {} \\nUSER CHOSE: {} \\n\\nCOMPUTER WINS , USER LOST!'.format(x,y.upper()))\n",
        "        \n",
        "        elif x.lower() == 'paper' and y.lower() == 'rock':\n",
        "          print('\\nCOMPUTER CHOSE: {} \\nUSER CHOSE: {} \\n\\nCOMPUTER WINS , USER LOST!'.format(x,y.upper()))\n",
        "        \n",
        "        elif x.lower() == 'scissors' and y.lower() == 'paper':\n",
        "          print('\\nCOMPUTER CHOSE: {} \\nUSER CHOSE: {} \\n\\nCOMPUTER WINS , USER LOST!'.format(x,y.upper()))\n",
        "        \n",
        "        elif x.lower() == 'scissors' and y.lower() == 'rock':\n",
        "          print('\\nCOMPUTER CHOSE: {} \\nUSER CHOSE: {} \\n\\nUSER WINS , COMPUTER LOST!'.format(x,y.upper()))\n",
        "        \n",
        "        elif x.lower() == 'rock' and y.lower() == 'paper':\n",
        "          print('\\nCOMPUTER CHOSE: {} \\nUSER CHOSE: {} \\n\\nUSER WINS , COMPUTER LOST!'.format(x,y.upper()))  \n",
        "        \n",
        "        elif x.lower() == 'paper' and y.lower() == 'scissors':\n",
        "          print('\\nCOMPUTER CHOSE: {} \\nUSER CHOSE: {} \\n\\nUSER WINS , COMPUTER LOST!'.format(x,y.upper()))\n",
        "        \n",
        "        elif x.lower() == y.lower():\n",
        "          print('\\nCOMPUTER CHOSE: {} \\nUSER CHOSE: {} \\n\\nDRAW!'.format(x,y.upper()))\n",
        "          \n",
        "        b = (str(input('\\nWould you like to replay? ')))\n",
        "        if b.lower() == 'yes':\n",
        "          True\n",
        "        else:\n",
        "          False\n",
        "          break\n"
      ],
      "execution_count": 0,
      "outputs": []
    },
    {
      "cell_type": "code",
      "metadata": {
        "id": "Br4mO2h0wYfL",
        "colab_type": "code",
        "colab": {
          "base_uri": "https://localhost:8080/",
          "height": 173
        },
        "outputId": "ddbf3555-3355-45e9-d186-36a77b02b71d"
      },
      "source": [
        "game()"
      ],
      "execution_count": 18,
      "outputs": [
        {
          "output_type": "stream",
          "text": [
            "Welcome to ROCK PAPER SCISSORS\n",
            "Enter 'ROCK', 'PAPER', or 'SCISSORS': rock\n",
            "\n",
            "COMPUTER CHOSE: PAPER \n",
            "USER CHOSE: ROCK \n",
            "\n",
            "COMPUTER WINS , USER LOST!\n",
            "\n",
            "Would you like to replay? no\n"
          ],
          "name": "stdout"
        }
      ]
    }
  ]
}